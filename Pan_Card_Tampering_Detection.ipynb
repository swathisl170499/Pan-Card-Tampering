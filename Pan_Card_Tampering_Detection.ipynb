{
  "nbformat": 4,
  "nbformat_minor": 0,
  "metadata": {
    "colab": {
      "provenance": [],
      "authorship_tag": "ABX9TyMvWHCCGTPE+8jBAJ2/861U",
      "include_colab_link": true
    },
    "kernelspec": {
      "name": "python3",
      "display_name": "Python 3"
    },
    "language_info": {
      "name": "python"
    }
  },
  "cells": [
    {
      "cell_type": "markdown",
      "metadata": {
        "id": "view-in-github",
        "colab_type": "text"
      },
      "source": [
        "<a href=\"https://colab.research.google.com/github/swathisl170499/swathisl170499/blob/main/Pan_Card_Tampering_Detection.ipynb\" target=\"_parent\"><img src=\"https://colab.research.google.com/assets/colab-badge.svg\" alt=\"Open In Colab\"/></a>"
      ]
    },
    {
      "cell_type": "markdown",
      "source": [
        "A PAN (Permanent Account Number) card is a unique ten-digit alphanumeric identifier issued by the Income Tax Department of India to individuals, businesses, and other entities.  "
      ],
      "metadata": {
        "id": "WIlbyOyONxun"
      }
    },
    {
      "cell_type": "markdown",
      "source": [
        "Using Computer Vision\n",
        "It detects whether the given ID is original or not calculates structural similarity amongst the original and uploaded ID."
      ],
      "metadata": {
        "id": "gXkCfF4ZOLp3"
      }
    },
    {
      "cell_type": "code",
      "execution_count": 2,
      "metadata": {
        "id": "RTVBmaIANV7F"
      },
      "outputs": [],
      "source": [
        "#Importing the necessary packages\n",
        "from skimage.metrics import structural_similarity\n",
        "import imutils\n",
        "import cv2\n",
        "from PIL import Image\n",
        "import requests"
      ]
    },
    {
      "cell_type": "code",
      "source": [
        "!mkdir pan_card_tampering\n",
        "!mkdir pan_card_tampering/image"
      ],
      "metadata": {
        "id": "PINxe7EXPO52"
      },
      "execution_count": 3,
      "outputs": []
    },
    {
      "cell_type": "code",
      "source": [
        "#open Image and display\n"
      ],
      "metadata": {
        "id": "T8QVDoPwPc0T"
      },
      "execution_count": null,
      "outputs": []
    }
  ]
}